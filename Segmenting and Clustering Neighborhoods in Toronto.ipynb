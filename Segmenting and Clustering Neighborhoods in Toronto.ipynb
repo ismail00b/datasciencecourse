{
    "cells": [
        {
            "cell_type": "code",
            "execution_count": 1,
            "metadata": {},
            "outputs": [
                {
                    "name": "stdout",
                    "output_type": "stream",
                    "text": "Solving environment: done\n\n## Package Plan ##\n\n  environment location: /opt/conda/envs/Python36\n\n  added / updated specs: \n    - beautifulsoup4\n\n\nThe following packages will be downloaded:\n\n    package                    |            build\n    ---------------------------|-----------------\n    python_abi-3.6             |          1_cp36m           4 KB  conda-forge\n    ca-certificates-2020.4.5.1 |       hecc5488_0         146 KB  conda-forge\n    beautifulsoup4-4.9.0       |   py36h9f0ad1d_0         160 KB  conda-forge\n    certifi-2020.4.5.1         |   py36h9f0ad1d_0         151 KB  conda-forge\n    openssl-1.1.1f             |       h516909a_0         2.1 MB  conda-forge\n    ------------------------------------------------------------\n                                           Total:         2.6 MB\n\nThe following NEW packages will be INSTALLED:\n\n    python_abi:      3.6-1_cp36m       conda-forge\n\nThe following packages will be UPDATED:\n\n    beautifulsoup4:  4.7.1-py36_1                  --> 4.9.0-py36h9f0ad1d_0      conda-forge\n    ca-certificates: 2020.1.1-0                    --> 2020.4.5.1-hecc5488_0     conda-forge\n    certifi:         2019.11.28-py36_0             --> 2020.4.5.1-py36h9f0ad1d_0 conda-forge\n    openssl:         1.1.1e-h7b6447c_0             --> 1.1.1f-h516909a_0         conda-forge\n\n\nDownloading and Extracting Packages\npython_abi-3.6       | 4 KB      | ##################################### | 100% \nca-certificates-2020 | 146 KB    | ##################################### | 100% \nbeautifulsoup4-4.9.0 | 160 KB    | ##################################### | 100% \ncertifi-2020.4.5.1   | 151 KB    | ##################################### | 100% \nopenssl-1.1.1f       | 2.1 MB    | ##################################### | 100% \nPreparing transaction: done\nVerifying transaction: done\nExecuting transaction: done\nLibraries imported.\n"
                }
            ],
            "source": "import numpy as np # library to handle data in a vectorized manner\n\nimport pandas as pd # library for data analsysis\npd.set_option('display.max_columns', None)\npd.set_option('display.max_rows', None)\n\n!conda install -c conda-forge beautifulsoup4 --yes\nfrom bs4 import BeautifulSoup\nfrom html.parser import HTMLParser\n\nimport requests # library to handle requests\nfrom pandas.io.json import json_normalize # tranform JSON file into a pandas dataframe\nimport json # library to handle JSON files\nprint('Libraries imported.')"
        },
        {
            "cell_type": "markdown",
            "metadata": {},
            "source": "# 1.Scraping Data from Wikipedia"
        },
        {
            "cell_type": "code",
            "execution_count": 2,
            "metadata": {},
            "outputs": [],
            "source": "url=\"https://en.wikipedia.org/wiki/List_of_postal_codes_of_Canada:_M\"\n\n# Make a GET request to fetch the raw HTML content\nhtml_content = requests.get(url).text\nsoup = BeautifulSoup(html_content, \"html.parser\")"
        },
        {
            "cell_type": "markdown",
            "metadata": {},
            "source": "# 2.Prepare Dataframe"
        },
        {
            "cell_type": "code",
            "execution_count": 8,
            "metadata": {},
            "outputs": [
                {
                    "name": "stdout",
                    "output_type": "stream",
                    "text": "['Postal code', 'Borough', 'Neighborhood']\n"
                }
            ],
            "source": "gdp_table = soup.find(\"table\", attrs={\"class\": \"wikitable\"})\ngdp_table_data = gdp_table.tbody.find_all(\"tr\")  # contains 2 rows\n\n# Get all the headings of Lists\nheadings = []\nfor td in gdp_table_data[0].find_all(\"th\"):\n    #print(td.text)\n    # remove any newlines and extra spaces from left and right\n    headings.append(td.text.replace('\\n', ' ').strip())\n\nprint(headings)\ndata = {}\ntable_data = []\nfor tr in gdp_table.tbody.find_all(\"tr\"): # find all tr's from table's tbody\n        t_row = {}\n\n        # find all td's(3) in tr and zip it with t_header\n        for td, th in zip(tr.find_all(\"td\"), headings): \n            t_row[th] = td.text.replace('\\n', '').strip()\n        table_data.append(t_row)\n\n# Put the data for the table with his heading.\ntestdata = pd.DataFrame(table_data)"
        },
        {
            "cell_type": "markdown",
            "metadata": {},
            "source": "## 2.a.remove not assigned Borough"
        },
        {
            "cell_type": "code",
            "execution_count": 9,
            "metadata": {},
            "outputs": [],
            "source": "onlyassigned = testdata[testdata['Borough'] != \"Not assigned\"]\nonlyassigned = onlyassigned.dropna()"
        },
        {
            "cell_type": "markdown",
            "metadata": {},
            "source": "## 2.b.replace / with , in neighborhood"
        },
        {
            "cell_type": "code",
            "execution_count": 10,
            "metadata": {},
            "outputs": [],
            "source": "onlyassigned[\"Neighborhood\"].replace(\"/\",\",\", regex=True, inplace=True)"
        },
        {
            "cell_type": "markdown",
            "metadata": {},
            "source": "## 2.c. display the shape of the dataframe"
        },
        {
            "cell_type": "code",
            "execution_count": 11,
            "metadata": {},
            "outputs": [
                {
                    "data": {
                        "text/plain": "(103, 3)"
                    },
                    "execution_count": 11,
                    "metadata": {},
                    "output_type": "execute_result"
                }
            ],
            "source": "onlyassigned.shape"
        },
        {
            "cell_type": "code",
            "execution_count": null,
            "metadata": {},
            "outputs": [],
            "source": ""
        }
    ],
    "metadata": {
        "kernelspec": {
            "display_name": "Python 3.6",
            "language": "python",
            "name": "python3"
        },
        "language_info": {
            "codemirror_mode": {
                "name": "ipython",
                "version": 3
            },
            "file_extension": ".py",
            "mimetype": "text/x-python",
            "name": "python",
            "nbconvert_exporter": "python",
            "pygments_lexer": "ipython3",
            "version": "3.6.9"
        }
    },
    "nbformat": 4,
    "nbformat_minor": 1
}
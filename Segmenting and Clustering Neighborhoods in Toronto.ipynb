{
    "cells": [
        {
            "cell_type": "code",
            "execution_count": null,
            "metadata": {},
            "outputs": [],
            "source": "import numpy as np # library to handle data in a vectorized manner\n\nimport pandas as pd # library for data analsysis\npd.set_option('display.max_columns', None)\npd.set_option('display.max_rows', None)\n\n#!conda install -c conda-forge beautifulsoup4 --yes\nfrom bs4 import BeautifulSoup\nfrom html.parser import HTMLParser\n\nimport requests # library to handle requests\nfrom pandas.io.json import json_normalize # tranform JSON file into a pandas dataframe\nimport json # library to handle JSON files\nprint('Libraries imported.')"
        },
        {
            "cell_type": "markdown",
            "metadata": {},
            "source": "# 1.Scraping Data from Wikipedia"
        },
        {
            "cell_type": "code",
            "execution_count": null,
            "metadata": {},
            "outputs": [],
            "source": "url=\"https://en.wikipedia.org/wiki/List_of_postal_codes_of_Canada:_M\"\n\n# Make a GET request to fetch the raw HTML content\nhtml_content = requests.get(url).text\nsoup = BeautifulSoup(html_content, \"html.parser\")"
        },
        {
            "cell_type": "markdown",
            "metadata": {},
            "source": "# 2.Prepare Dataframe"
        },
        {
            "cell_type": "code",
            "execution_count": null,
            "metadata": {},
            "outputs": [],
            "source": "gdp_table = soup.find(\"table\", attrs={\"class\": \"wikitable\"})\ngdp_table_data = gdp_table.tbody.find_all(\"tr\")  # contains 2 rows\n\n# Get all the headings of Lists\nheadings = []\nfor td in gdp_table_data[0].find_all(\"th\"):\n    #print(td.text)\n    # remove any newlines and extra spaces from left and right\n    headings.append(td.text.replace('\\n', ' ').strip())\n\nprint(headings)\ndata = {}\ntable_data = []\nfor tr in gdp_table.tbody.find_all(\"tr\"): # find all tr's from table's tbody\n        t_row = {}\n\n        # find all td's(3) in tr and zip it with t_header\n        for td, th in zip(tr.find_all(\"td\"), headings): \n            t_row[th] = td.text.replace('\\n', '').strip()\n        table_data.append(t_row)\n\n# Put the data for the table with his heading.\ntestdata = pd.DataFrame(table_data)"
        },
        {
            "cell_type": "markdown",
            "metadata": {},
            "source": "## 2.a.remove not assigned Borough"
        },
        {
            "cell_type": "code",
            "execution_count": null,
            "metadata": {},
            "outputs": [],
            "source": "onlyassigned = testdata[testdata['Borough'] != \"Not assigned\"]\nonlyassigned = onlyassigned.dropna()"
        },
        {
            "cell_type": "markdown",
            "metadata": {},
            "source": "## 2.b.replace / with , in neighborhood"
        },
        {
            "cell_type": "code",
            "execution_count": null,
            "metadata": {},
            "outputs": [],
            "source": "onlyassigned[\"Neighborhood\"].replace(\"/\",\",\", regex=True, inplace=True)"
        },
        {
            "cell_type": "markdown",
            "metadata": {},
            "source": "## 2.c. display the shape of the dataframe"
        },
        {
            "cell_type": "code",
            "execution_count": null,
            "metadata": {},
            "outputs": [],
            "source": "onlyassigned.shape"
        },
        {
            "cell_type": "markdown",
            "metadata": {},
            "source": "## 2.d. Using Geospatial_data csv file to get lat/lon "
        },
        {
            "cell_type": "code",
            "execution_count": null,
            "metadata": {},
            "outputs": [],
            "source": "geodata = pd.read_csv(\"http://cocl.us/Geospatial_data\")"
        },
        {
            "cell_type": "code",
            "execution_count": null,
            "metadata": {},
            "outputs": [],
            "source": "neighborhoods = pd.merge(onlyassigned, geodata, left_on='Postal code', right_on='Postal Code').drop(['Postal code'], axis=1)"
        },
        {
            "cell_type": "code",
            "execution_count": null,
            "metadata": {},
            "outputs": [],
            "source": "neighborhoods.rename(columns={'Postal Code': 'PostalCode'}, inplace=True)"
        },
        {
            "cell_type": "code",
            "execution_count": null,
            "metadata": {},
            "outputs": [],
            "source": "neighborhoods = neighborhoods[['PostalCode', 'Borough','Neighborhood','Latitude','Longitude']]"
        },
        {
            "cell_type": "code",
            "execution_count": null,
            "metadata": {},
            "outputs": [],
            "source": "neighborhoods"
        },
        {
            "cell_type": "code",
            "execution_count": null,
            "metadata": {},
            "outputs": [],
            "source": "print('The dataframe has {} boroughs and {} neighborhoods.'.format(\n        len(neighborhoods['Borough'].unique()),\n        neighborhoods.shape[0]\n    )\n)"
        },
        {
            "cell_type": "code",
            "execution_count": null,
            "metadata": {},
            "outputs": [
                {
                    "name": "stdout",
                    "output_type": "stream",
                    "text": "Solving environment: \\ "
                }
            ],
            "source": "!conda install -c conda-forge folium=0.5.0 --yes # uncomment this line if you haven't completed the Foursquare API lab\nimport folium # map rendering library\n!conda install -c conda-forge geopy --yes # uncomment this line if you haven't completed the Foursquare API lab\nfrom geopy.geocoders import Nominatim # convert an address into latitude and longitude values"
        },
        {
            "cell_type": "code",
            "execution_count": null,
            "metadata": {},
            "outputs": [],
            "source": "# create map of Toronto using latitude and longitude values\nmap_toronto = folium.Map(location=[latitude, longitude], zoom_start=10)\n\n# add markers to map\nfor lat, lng, borough, neighborhood in zip(neighborhoods['Latitude'], neighborhoods['Longitude'], neighborhoods['Borough'], neighborhoods['Neighborhood']):\n    label = '{}, {}'.format(neighborhood, borough)\n    label = folium.Popup(label, parse_html=True)\n    folium.CircleMarker(\n        [lat, lng],\n        radius=5,\n        popup=label,\n        color='blue',\n        fill=True,\n        fill_color='#3186cc',\n        fill_opacity=0.7,\n        parse_html=False).add_to(map_toronto)  \n    \nmap_toronto"
        }
    ],
    "metadata": {
        "kernelspec": {
            "display_name": "Python 3.6",
            "language": "python",
            "name": "python3"
        },
        "language_info": {
            "codemirror_mode": {
                "name": "ipython",
                "version": 3
            },
            "file_extension": ".py",
            "mimetype": "text/x-python",
            "name": "python",
            "nbconvert_exporter": "python",
            "pygments_lexer": "ipython3",
            "version": "3.6.9"
        }
    },
    "nbformat": 4,
    "nbformat_minor": 1
}